{
  "cells": [
    {
      "cell_type": "markdown",
      "metadata": {
        "id": "view-in-github",
        "colab_type": "text"
      },
      "source": [
        "<a href=\"https://colab.research.google.com/github/relaypy/MAIS202_Project/blob/main/A1_MAIS_202%2C_F2024_V.ipynb\" target=\"_parent\"><img src=\"https://colab.research.google.com/assets/colab-badge.svg\" alt=\"Open In Colab\"/></a>"
      ]
    },
    {
      "cell_type": "markdown",
      "metadata": {
        "id": "UhtD3pZc51Cf"
      },
      "source": [
        "# MAIS bootcamp Winter 2024 - Assignment 1\n",
        "\n",
        "### Linear regression, K-Nearest Neighbors, Hyperparameter Tuning & Metrics (F1/recall/precision)\n",
        "\n",
        "Due October **22** at **11:59 PM**\n",
        "\n",
        "Please comment your code, and do not copy it from the internet. This class does not affect your grades, and it's sole purpose is for you to learn new skills.\n",
        "\n",
        "Each section is independent and the assignment may therefore be completed in any order.\n",
        "\n",
        "For this assignment, you will need the `numpy`, `sklearn` and `torch` libraries. Make sure to install them before starting (open a command prompt and run `pip install -U scikit-learn & pip install numpy & pip install torch` if you are on windows).\n",
        "\n"
      ]
    },
    {
      "cell_type": "markdown",
      "metadata": {
        "id": "WeaPthR9IuJu"
      },
      "source": [
        "> **Before you get started, some Colab logistics:**\n",
        ">\n",
        "> * *Click on `File` -> `Save a copy in Drive` above, to save a copy of this colab notebook in your personal drive so that you can submit it later.*\n",
        "> * *For those of you who've never used Jupyter/Colab notebooks before, simply press `Ctrl` + `Enter`, or click the play button in the top left, to run each cell.*\n",
        ">\n",
        "> * *As well, you may see some `assert` statements throughout the code. These are used within or after questions to help you ensure that your answers have the correct dimensions. If your answers do not have the correct dimensions, an `assertionError` will be thrown.*\n"
      ]
    },
    {
      "cell_type": "markdown",
      "metadata": {
        "id": "LRgBtEvH51Ch"
      },
      "source": [
        "## Part I - Linear regression"
      ]
    },
    {
      "cell_type": "markdown",
      "metadata": {
        "id": "eZ3g0hx-51Ci"
      },
      "source": [
        "### **1 - Background**"
      ]
    },
    {
      "cell_type": "markdown",
      "metadata": {
        "id": "rV2jTVT951Ci"
      },
      "source": [
        "This section will cover a simple implementation of linear regression, which is a supervised learning method that uses linear trends within a dataset to make new predictions.\n",
        "\n",
        "This method consists in using currently existing datapoints to create a linear model (usually a line, but by extension a hyperplane), which is a function defined by a few parameters that when given unlabeled data as argument will return an estimate of the value to predict.\n",
        "\n",
        "This makes the assumption that there is a linear relationship between the argument and the value to predict.\n",
        "\n",
        "Given a dataset of m data points with n-dimensional features $\\{x_{i1}, ..., x_{in}\\}_{i=1} ^m$ and associated labels $\\{y_i\\}_{i=1}^m$, the linear model takes the form\n",
        "\n",
        "$$y=X\\beta + \\epsilon$$\n",
        "\n",
        "where\n",
        "\n",
        "$y=\\begin{pmatrix}\n",
        "y_1\\\\\n",
        "y_2\\\\\n",
        "...\\\\\n",
        "y_n\n",
        "\\end{pmatrix}$ is the matrix containing all labels;\n",
        "\n",
        "$X=\\begin{pmatrix}\n",
        "1 & x_{11} & x_{12} & ... & x_{1n} \\\\\n",
        "1 & x_{21} & x_{22} & ... & x_{2n} \\\\\n",
        "... & ... & ... & ... & ... \\\\\n",
        "1 & x_{m1} & x_{m2} & ... & x_{mn} \\\\\n",
        "\\end{pmatrix}$ is the matrix containing all features;\n",
        "\n",
        "$\\beta=\\begin{pmatrix}\n",
        "\\beta_0 \\\\\n",
        "\\beta_1 \\\\\n",
        "... \\\\\n",
        "\\beta_n \\\\\n",
        "\\end{pmatrix}$ is the coefficient of proportionality between each feature and the label;\n",
        "\n",
        "$\\epsilon=\\begin{pmatrix}\n",
        "\\epsilon_0 \\\\\n",
        "\\epsilon_1 \\\\\n",
        "... \\\\\n",
        "\\epsilon_n \\\\\n",
        "\\end{pmatrix}$ is the disturbance term or error variable to account for noise. We will be ignoring this term in the following parts of this exercise.\n",
        "\n",
        "Creating a linear model means finding the parameters $\\beta = \\begin{pmatrix}\\beta_1 & \\beta_2 & ... & \\beta_n \\end{pmatrix}$. And since we are looking for an accurate model, we want parameters that minimize error between prediction and actual value. Here, we will be interested in minimizing squared error in order to have a nice convex loss function to work with.\n",
        "\n"
      ]
    },
    {
      "cell_type": "markdown",
      "metadata": {
        "id": "usWQ6z4G51Cj"
      },
      "source": [
        "#### Creating a linear model\n",
        "\n",
        "Let $x_i = \\begin{pmatrix} x_{i1} & x_{i2} & ... & x_{in}\\end{pmatrix}$ be the features of a data point and let $\\beta = \\begin{pmatrix} \\beta_1 & \\beta_2 & ... & \\beta_n\\end{pmatrix}$ be the parameters of the model.\n",
        "\n",
        "The model's prediction is then defined as $\\beta_0 + \\sum\\limits_{j=1}^m\\beta_j\\times x_{ij}$.\n",
        "\n",
        "For the sake of conciseness, we can let $x_i = \\begin{pmatrix} 1 & x_{i1} & x_{i2} & ... & x_{in}\\end{pmatrix}$ instead, and the formula becomes $\\sum\\limits_{j=0}^m\\beta_j\\times x_{ij}$, which is seen to be the same as $\\beta\\cdot x_i$\n",
        "\n",
        "Now remember that we are trying to minimize the [mean squared error](https://en.wikipedia.org/wiki/Mean_squared_error) between predictions and actual results $y_i$ by adjusting $\\beta$\n",
        "\n",
        "$$\\hat\\beta=\\arg\\min\\limits_{\\beta}\\sum\\limits_{j=1}^n(\\beta\\cdot x_i - y_i)^2$$\n",
        "\n",
        "The loss function is $\\sum\\limits_{j=1}^n(\\beta\\cdot x_i - y_i)^2$. It can be rewritten, defining X and Y as the matrices containing the features and labels respectively, as\n",
        "$$\\begin{align*}\n",
        "&||X\\beta-Y||^2\\\\\n",
        "&=(X\\beta - Y)^T(X\\beta-Y)\\\\\n",
        "&=Y^TY-Y^TX\\beta-\\beta^TX^TY+\\beta^TX^TX\\beta\n",
        "\\end{align*}$$\n",
        "\n",
        "As previously stated, the mean squared error is convex, and hence the optimum solution is where the gradient is zero. The gradient in question is\n",
        "$$\\begin{align*}\n",
        "&\\frac{\\delta(Y^TY-Y^TX\\beta-\\beta^TX^TY+\\beta^TX^TX)}{\\delta\\beta}\\\\\n",
        "&=-2X^TY+2X^TX\\beta\n",
        "\\end{align*}$$\n",
        "\n",
        "\n",
        "By setting the gradient to zero, we find the formula for the optimum parameters\n",
        "\n",
        "$$\\begin{align*}\n",
        "-2X^TY+2X^TX &= 0\\\\\n",
        "X^TX\\beta &= X^TY\\\\\n",
        "\\beta &= (X^TX)^{-1}X^TY\n",
        "\\end{align*}$$\n",
        "\n",
        "> Hence, the best parameters for the linear model are obtained through the formula\n",
        "$\\beta=(X^TX)^{-1}X^TY$."
      ]
    },
    {
      "cell_type": "markdown",
      "metadata": {
        "id": "CEmt1Ntw51Cj"
      },
      "source": [
        "#### Using a linear model to make predictions\n",
        "\n",
        "Once the $\\beta$ parameters have been calculated, to make a new prediction based on some data point $x = \\begin{pmatrix} x_1 & x_2 & ... & x_n\\end{pmatrix}$, we simply add a 1 at the beginning of the vector, such that $x = \\begin{pmatrix} 1& x_1 & x_2 & ... & x_n\\end{pmatrix}$ and calculate\n",
        "$$y = \\beta\\cdot x$$"
      ]
    },
    {
      "cell_type": "markdown",
      "metadata": {
        "id": "D_XKOIzl51Ck"
      },
      "source": [
        "#### Example\n",
        "\n",
        "Let's say we have three data points $x_1$, $x_2$ and $x_3$. Each has 3 dimensions, and their respective values are $(2, 1, 1)$, $(2, 4, 0)$, $(3, 7, -1)$. Their respective labels are $1$, $2$ and $3$.\n",
        "\n",
        "We calculate the best parameters $\\beta$ for the linear model using the formula\n",
        "$$\\beta=(X^TX)^{-1}X^TY$$\n",
        "\n",
        "Replacing with values:\n",
        "$$\\begin{align*}\n",
        "\\beta &= (X^TX)^{-1}X^TY\\\\\n",
        "&= (\\begin{pmatrix}\n",
        "1 & 1 & 1\\\\\n",
        "2 & 2 & 3\\\\\n",
        "1 & 4 & 7\\\\\n",
        "1 & 0 & -1\n",
        "\\end{pmatrix}\n",
        "\\begin{pmatrix}\n",
        "1 & 2 & 1 & 1\\\\\n",
        "1 & 2 & 4 & 0\\\\\n",
        "1 & 3 & 7 & -1\n",
        "\\end{pmatrix})^{-1}\n",
        "\\begin{pmatrix}\n",
        "1 & 1 & 1\\\\\n",
        "2 & 2 & 3\\\\\n",
        "1 & 4 & 7\\\\\n",
        "1 & 0 & -1\n",
        "\\end{pmatrix}\n",
        "\\begin{pmatrix}\n",
        "1\\\\\n",
        "2\\\\\n",
        "3\n",
        "\\end{pmatrix}\\\\\n",
        "&= \\begin{pmatrix}\n",
        "80\\\\\n",
        "2.3\\\\\n",
        "-10\\\\\n",
        "-8\n",
        "\\end{pmatrix}\n",
        "\\end{align*}$$\n"
      ]
    },
    {
      "cell_type": "markdown",
      "metadata": {
        "id": "S-gCjAS451Ck"
      },
      "source": [
        "### **2 - Application**"
      ]
    },
    {
      "cell_type": "markdown",
      "metadata": {
        "id": "qElz7Tc851Ck"
      },
      "source": [
        "In this section you will be coding linear regression. Start by running the following code snippets to load and visualize the data you will be using."
      ]
    },
    {
      "cell_type": "code",
      "execution_count": null,
      "metadata": {
        "id": "WbaJm_dj51Cl"
      },
      "outputs": [],
      "source": [
        "# load libraries\n",
        "import json\n",
        "import numpy as np\n",
        "import matplotlib.pyplot as plt\n",
        "from urllib.request import urlopen"
      ]
    },
    {
      "cell_type": "code",
      "execution_count": null,
      "metadata": {
        "id": "Pm0VGKMt51Cm"
      },
      "outputs": [],
      "source": [
        "# Load dataset\n",
        "f = urlopen(\"https://raw.githubusercontent.com/Scezaquer/MAIS202_2023_A1/main/a1_lin_regress_data.json\")\n",
        "dataset = json.load(f)\n",
        "\n",
        "dataset = np.array(dataset)\n"
      ]
    },
    {
      "cell_type": "code",
      "execution_count": null,
      "metadata": {
        "colab": {
          "base_uri": "https://localhost:8080/",
          "height": 430
        },
        "id": "463DvR9n51Cn",
        "outputId": "180bb7bb-0d3e-413a-85ec-ad2ad5193a77"
      },
      "outputs": [
        {
          "data": {
            "image/png": "[encoded data removed]",
            "text/plain": [
              "<Figure size 640x480 with 1 Axes>"
            ]
          },
          "metadata": {},
          "output_type": "display_data"
        }
      ],
      "source": [
        "# Show dataset plot\n",
        "plt.scatter(dataset[:, 0], dataset[:, 1])\n",
        "plt.show()"
      ]
    },
    {
      "cell_type": "markdown",
      "metadata": {
        "id": "95cfQmGZ51Co"
      },
      "source": [
        "The `dataset` array is of the form `[[x0, y0], [x1, y1], [x2, y2], ..., [x49, y49]]`.\n",
        "\n",
        "> Your task will be to fit a model to this dataset, and use it to make predictions. Note that there will be a second dataset where points are 4-dimensional (3 features and 1 label), hence you should try to make your code general enough to accept an arbitrary number of dimensions."
      ]
    },
    {
      "cell_type": "code",
      "execution_count": null,
      "metadata": {
        "id": "opym7J2X51Co"
      },
      "outputs": [],
      "source": [
        "from re import X\n",
        "def linear_regression(dataset: np.array) -> np.array:\n",
        "\n",
        "    beta = np.zeros(dataset.shape[1])\n",
        "\n",
        "\n",
        "    #########################\n",
        "\n",
        "    # Insert your code here\n",
        "    # This should be returning the beta vector with entries fitted to the dataset\n",
        "    # Don't forget to add the intercept\n",
        "    X= np.column_stack([np.ones(dataset.shape[0]), dataset[:,:-1]])\n",
        "    Y=dataset[:,-1]\n",
        "    beta = np.dot(np.dot(np.linalg.inv(np.dot(X.T,X)),X.T),Y)\n",
        "    #########################\n",
        "\n",
        "    return beta\n"
      ]
    },
    {
      "cell_type": "code",
      "execution_count": null,
      "metadata": {
        "colab": {
          "base_uri": "https://localhost:8080/",
          "height": 430
        },
        "id": "Es6T6oCb51Co",
        "outputId": "088a001f-ac64-45d1-d125-c29e93e060ee"
      },
      "outputs": [
        {
          "data": {
            "image/png": "[encoded data removed]",
            "text/plain": [
              "<Figure size 640x480 with 1 Axes>"
            ]
          },
          "metadata": {},
          "output_type": "display_data"
        }
      ],
      "source": [
        "# Show dataset plot overlaid with linear regression\n",
        "beta = linear_regression(dataset)\n",
        "\n",
        "plt.scatter(dataset[:, 0], dataset[:, 1])\n",
        "plt.plot([0, 100], [np.dot(beta, [1, 0]), np.dot(beta, [1, 100])])\n",
        "plt.show()"
      ]
    },
    {
      "cell_type": "code",
      "execution_count": null,
      "metadata": {
        "id": "TyfRooAg51Cp"
      },
      "outputs": [],
      "source": [
        "def predict(beta: np.array, x: np.array) -> float:\n",
        "    #######################\n",
        "\n",
        "    # Insert your code here\n",
        "    y = np.dot(beta[1:],x.T)+beta[0]\n",
        "    # Given the fitted parameters and a new unlabeled point, make a prediction for what this point's label should be\n",
        "\n",
        "    # Make sure to add the intercept\n",
        "    return y\n",
        "    #######################"
      ]
    },
    {
      "cell_type": "code",
      "execution_count": null,
      "metadata": {
        "colab": {
          "base_uri": "https://localhost:8080/"
        },
        "id": "zlVfEaKk51Cp",
        "outputId": "8d78719e-45df-4aa9-f7f5-263b96179594"
      },
      "outputs": [
        {
          "name": "stdout",
          "output_type": "stream",
          "text": [
            "All tests passed!\n"
          ]
        }
      ],
      "source": [
        "# Your code should be passing the following tests\n",
        "# (if you modify them for testing purposes, make sure to return them to their original state)\n",
        "\n",
        "def test_linear_regression_2D():\n",
        "    dataset = np.array([[1, 2], [2, 4], [3, 6], [4, 8]])\n",
        "    expected_beta = np.array([0, 2])\n",
        "\n",
        "    result = linear_regression(dataset)\n",
        "\n",
        "    assert np.allclose(result, expected_beta, 0.1)\n",
        "\n",
        "def test_linear_regression_dataset(dataset):\n",
        "\n",
        "    expected_beta = np.array([14.7, 4])\n",
        "\n",
        "    result = linear_regression(dataset)\n",
        "\n",
        "    assert np.allclose(expected_beta, result, 0.1)\n",
        "\n",
        "def test_predict():\n",
        "    beta = np.array([1, 2, 3])\n",
        "    x = np.array([[2, 3], [4, 5]])\n",
        "    expected_predictions = np.array([1*1 + 2*2 + 3*3, 1*1 + 2*4 + 3*5])\n",
        "\n",
        "    prediction = predict(beta, x)\n",
        "\n",
        "    assert np.allclose(prediction, expected_predictions)\n",
        "\n",
        "test_linear_regression_2D()\n",
        "test_linear_regression_dataset(dataset)\n",
        "test_predict()\n",
        "\n",
        "print(\"All tests passed!\")"
      ]
    },
    {
      "cell_type": "markdown",
      "metadata": {
        "id": "Tmn58DR351Cp"
      },
      "source": [
        "Now, your code should be able to handle more dimensions. If it doesn't yet, you will have to modify it and make sure that the changes you implement do not break the previous test case. This time points will be 4-dimensional (3 features and 1 label)."
      ]
    },
    {
      "cell_type": "code",
      "execution_count": null,
      "metadata": {
        "id": "-AkGxJZX51Cp"
      },
      "outputs": [],
      "source": [
        "# Load dataset\n",
        "f = urlopen(\"https://raw.githubusercontent.com/Scezaquer/MAIS202_2023_A1/main/a1_lin_regress_data2.json\")\n",
        "dataset2 = json.load(f)\n",
        "\n",
        "dataset2 = np.array(dataset2)"
      ]
    },
    {
      "cell_type": "code",
      "execution_count": null,
      "metadata": {
        "id": "SrAIs_Zo51Cq"
      },
      "outputs": [],
      "source": [
        "# Your code should be passing this test too\n",
        "\n",
        "def test_linear_regression_dataset2(dataset2):\n",
        "\n",
        "    beta = linear_regression(dataset2)\n",
        "\n",
        "    expected_beta = np.array([17.1, 3, -2, 7])\n",
        "\n",
        "    assert np.allclose(beta, expected_beta, 0.1)\n",
        "\n",
        "test_linear_regression_dataset2(dataset2)"
      ]
    },
    {
      "cell_type": "markdown",
      "metadata": {
        "id": "BUoib22QB7z4"
      },
      "source": [
        "### Additional resources on Linear Regression\n",
        "\n",
        "- Wikipedia, [*Mean Squared Error*](https://en.wikipedia.org/wiki/Mean_squared_error) ;\n",
        "- Wikipedia, [*Linear Regression*](https://en.wikipedia.org/wiki/Linear_regression) ;\n",
        "- [These notes on supervised learning](https://stanford.edu/~shervine/teaching/cs-229/cheatsheet-supervised-learning) from students of CS 229, an ML course at Stanford.\n",
        "- W3 Schools, [*Machine Learning - Linear Regression*](https://www.w3schools.com/Python/python_ml_linear_regression.asp) ;\n",
        "\n",
        "- Geeksforgeeks, [*Linear Regression in Machine Learning*](https://www.geeksforgeeks.org/ml-linear-regression/) ;\n",
        "\n",
        "\n",
        "\n"
      ]
    },
    {
      "cell_type": "markdown",
      "metadata": {
        "id": "Dhnpci7q51Cq"
      },
      "source": [
        "## Part II - K-Nearest Neighbors (KNN)"
      ]
    },
    {
      "cell_type": "markdown",
      "metadata": {
        "id": "mUS-0Jlb51Cq"
      },
      "source": [
        "### **1 - Background**"
      ]
    },
    {
      "cell_type": "markdown",
      "metadata": {
        "id": "FONLlDf051Cq"
      },
      "source": [
        "> This section will cover a simple implementation of the K-Nearest Neighbors (KNN) algorithm, which is an intuitive supervised learning method used to classify data.\n",
        "\n",
        "KNN is an algorithm based on the intuition that a data point should have properties similar to other data points \"close\" to itself. It can be used in both the context of classification and of regression depending on implementation specifics:\n",
        "\n",
        "- In the case of **classification**, the object will receive the label that appeared most often in the $k$ datapoints closest to itself.\n",
        "  \n",
        "  For example, *let's say I have a dataset of $100,000$ labeled fishes, and want to know the species of fish I caught based on it's measurable properties (size, weight...) using the 10-Nearest Neighbors algorithm. I will first calculate the distance between my fish and every point in the dataset. Then, I will pick the 10 closest ones. And finally, if I end up with 6 tunas, 3 moonfishes and 1 baracuda, I will conclude that the fish I caught must be a tuna.*\n",
        "\n",
        "- In the case of **regression**, the object will receive a value based on the average of the $K$ datapoints closest to itself.\n",
        "  \n",
        "  For example, *let's say I want to set a price for a house in order to sell it using the 3-Nearest Neighbors algorithm based on its location ($x$ and $y$ coordinates). I will first look at the price of the 3 properties closest to the house. Imagine they are $\\$840,000$, $\\$670,000$ and $\\$974,000$ respectively. I will then average these prices to get $\\frac{840000+670000+974000}3 =\\$ 828,000$ as the value of my house.*\n",
        "  \n",
        "  Note that this could also be a **weighted average** based on some properties of the data points (*for example, if I am selling a house, I might want to give more weight to the price of other houses than to the price of appartments nearby*), but also based on distance between data points (give more weight to the closest datapoints). Classification can be similarly weighted."
      ]
    },
    {
      "cell_type": "markdown",
      "metadata": {
        "id": "fLsYlqDa51Cr"
      },
      "source": [
        "#### Distance\n",
        "\n",
        "In both classification and regression, the key part of the algorithm is finding, in a set, the datapoints \"closest\" to our object in order to make a prediction. This requires having a definition of distance, which, in mathematics, we call a *metric* or a *distance function*.\n",
        "\n",
        "Formally, a metric $d$ is defined over a set $M$ as a function $d:M{\\times}M{\\rightarrow\\mathbb{R}^+}$, where d has four properties:\n",
        "\n",
        "- **Identity of indiscernibles:** The distance from a point to itself is zero\n",
        "  \n",
        "  $\\forall x \\in M, d(x, x)=0$\n",
        "\n",
        "  *More formally, $d(x,y)=0 \\iff x=y$*\n",
        "\n",
        "- **Positivity of distance:** the distance between two distinct points is always strictly positive\n",
        "  \n",
        "  $\\forall x, y \\in M$ such that $x\\neq y, d(x, y)\\gt 0$\n",
        "\n",
        "- **Symmetry:** the distance from x to y is always the same as the distance from y to x\n",
        "  \n",
        "  $\\forall x, y\\in M, d(x,y)=d(y,x)$\n",
        "\n",
        "- **The triangle inequality:** going from $x$ to $z$ while taking a detour by $y$ cannot be faster than going straight from $x$ to $z$.\n",
        "  \n",
        "  $\\forall x, y, z\\in M, d(x,z)\\leq d(x, y)+d(y, z)$\n",
        "\n",
        "Common metrics include the euclidean metric over $\\mathbb{R}^n$, where\n",
        "$$d(x, y) = \\sqrt{\\sum\\limits _{i=1}^n (x_i-y_i)^2}$$\n",
        "and its special case where $n=2$ which yields the pythagorean theorem, and is the standard way of defining a distance over a plane."
      ]
    },
    {
      "cell_type": "markdown",
      "metadata": {
        "id": "HnVe-S_l51Cr"
      },
      "source": [
        "#### Lp norms\n",
        "\n",
        "Typically, a metric will be induced by a norm, where each norm is, informally, a measure of size (or distance to the origin). More formally, a norm over a set $M$ is a function $p:M \\rightarrow \\mathbb{R}^+$, where $p$ respects three axioms:\n",
        "\n",
        "- **The triangle inequality:** the size of the sum of two elements cannot be greater than the sum of the sizes of each individual element.\n",
        "  \n",
        "  $\\forall x, y \\in M, p(x+y)\\le p(x)+p(y)$\n",
        "\n",
        "- **Absolute Homogeneity:** scaling an element also scales its size.\n",
        "  \n",
        "  $\\forall x\\in M, s\\in \\mathbb{R}, p(sx)=|s|p(x)$\n",
        "\n",
        "- **Positive definiteness:** the only element of size 0 is zero itself.\n",
        "  \n",
        "  $p(x)=0\\Leftrightarrow x=0$\n",
        "\n",
        "Generally, a norm is represented by the symbol $||\\cdot||$, where $||x||$ is the norm of $x$.\n",
        "\n",
        "Lp norms (or sometimes just p-norms) are a specific category of norms over $\\mathbb{R}^n$ with the form\n",
        "$$||x||_p=({\\sum\\limits_{i=1}^n}|x_i|^p)^{1/p}$$\n",
        "with $p\\geq1$. You may check for yourself that they meet all the requirements.\n",
        "\n",
        "The euclidean norm is a special case of Lp norm where $p=2$:\n",
        "$$||x||_2=({\\sum\\limits_{i=1}^n}|x_i|^2)^{1/2}$$\n",
        "And it yields the standard definition of distance to the origin.\n",
        "\n",
        "As stated before, metrics are generally induced by a norm. This is most commonly done in the following fashion:\n",
        "$$d(x, y)=||x-y||$$\n",
        "Where $d$ is the metric induced by the norm $||\\cdot||$.\n",
        "\n",
        "So for example, the euclidean metric $d$ may be defined as the metric induced by the Lp norm (with $p$ set to 2) $||\\cdot||_2$, such that\n",
        "$$d(x,y)=||x-y||_2=({\\sum\\limits_{i=1}^n}|x_i-y_i|^2)^{1/2}$$"
      ]
    },
    {
      "cell_type": "markdown",
      "metadata": {
        "id": "DJ_gfde251Cr"
      },
      "source": [
        "#### Example\n",
        "\n",
        "We will now be giving example calculations to find the distance between two arbitrary points.\n",
        "\n",
        "Let us define $x, y\\in\\mathbb{R}^3$ such that\n",
        "$$\\begin{align*}\n",
        "x&=(12.5, 14.7, -4.1)\\\\\n",
        "y&=(-2, 12, 13.2)\n",
        "\\end{align*}$$\n",
        "\n",
        "We want to calculate the distance between x and y using the euclidean metric. We let\n",
        "$$d(x,y)=||x-y||_2=({\\sum\\limits_{i=1}^3}|x_i-y_i|^2)^{1/2}$$\n",
        "\n",
        "and compute\n",
        "$$\\begin{align*}\n",
        "d(x, y) & = ({\\sum\\limits_{i=1}^3}|x_i-y_i|^2)^{1/2}\\\\\n",
        "& = (|12.5-(-2)|^2+|14.7-12|^2+|-4.1-13.2|^2)^{1/2}\\\\\n",
        "& = (|14.5|^2+|2.7|^2+|-17.3|^2)^{1/2}\\\\\n",
        "& = (210.25+7.29+299.29)^{1/2}\\\\\n",
        "& = 516.83^{1/2}\\\\\n",
        "& = 22.73\n",
        "\\end{align*}$$\n",
        "\n",
        "Hence we conclude that the distance between $x$ and $y$ is about $22.73$ units."
      ]
    },
    {
      "cell_type": "markdown",
      "metadata": {
        "id": "nPMMiblN51Cr"
      },
      "source": [
        "### **2 - Applications**"
      ]
    },
    {
      "cell_type": "markdown",
      "metadata": {
        "id": "AI4-WEL651Cr"
      },
      "source": [
        "> You will now be implementing KNN yourself for regression on real data. Run the following code snippets in order to load the dataset you will be using as reference. Follow along and execute the next snippets of code to setup the problem."
      ]
    },
    {
      "cell_type": "code",
      "execution_count": null,
      "metadata": {
        "id": "R-ePBtmh51Cr"
      },
      "outputs": [],
      "source": [
        "# load libraries\n",
        "import json\n",
        "import numpy as np\n",
        "import matplotlib.pyplot as plt\n",
        "from urllib.request import urlopen"
      ]
    },
    {
      "cell_type": "code",
      "execution_count": null,
      "metadata": {
        "id": "O39O7siq51Cr"
      },
      "outputs": [],
      "source": [
        "# Load dataset\n",
        "f = urlopen(\"https://raw.githubusercontent.com/Scezaquer/MAIS202_2023_A1/main/a1_KNN_data.json\")\n",
        "dataset = json.load(f)\n",
        "\n",
        "dataset = np.array(dataset)"
      ]
    },
    {
      "cell_type": "code",
      "execution_count": null,
      "metadata": {
        "colab": {
          "base_uri": "https://localhost:8080/",
          "height": 430
        },
        "id": "qQ0owJB_51Cs",
        "outputId": "d95c265a-3b47-4544-c5ef-53d273450a6a"
      },
      "outputs": [
        {
          "data": {
            "image/png": "[encoded data removed]",
            "text/plain": [
              "<Figure size 640x480 with 1 Axes>"
            ]
          },
          "metadata": {},
          "output_type": "display_data"
        }
      ],
      "source": [
        "# Show dataset plot\n",
        "plt.scatter(dataset[:, 1], dataset[:, 2], c=dataset[:, 0])\n",
        "plt.show()"
      ]
    },
    {
      "cell_type": "markdown",
      "metadata": {
        "id": "WxOtWPVm51Cs"
      },
      "source": [
        "You can see on the plot above `dataset`, which contains a labeled dataset you will be using to classify new datapoints. It is a numpy array of dimensions `(100, 3)`. It contains 100 datapoints (one per row), and each datapoint has 3 entries: `[label, x, y]`.\n",
        "\n",
        "> `label` is the label of the entry, and it may be 0, 1 or 2.\n",
        ">\n",
        "> `x` and `y` are the entry's data, and they can take any real value.\n",
        "\n",
        "Remember:\n",
        "*You may access a numpy array similarly to how you would access lists in python.*\n",
        "\n",
        "So `dataset[13][1]` would give me the `x` value of the 14th entry in the table. Note that the `data[13, 1]` syntax is equivalent.\n",
        "\n",
        "For more information about numpy array indexing, go to https://numpy.org/doc/stable/user/basics.indexing.html"
      ]
    },
    {
      "cell_type": "code",
      "execution_count": null,
      "metadata": {
        "colab": {
          "base_uri": "https://localhost:8080/",
          "height": 430
        },
        "id": "4wWd3j6j51Cs",
        "outputId": "99364bca-6c7f-4034-f857-551f7feda987"
      },
      "outputs": [
        {
          "data": {
            "image/png": "[encoded data removed]",
            "text/plain": [
              "<Figure size 640x480 with 1 Axes>"
            ]
          },
          "metadata": {},
          "output_type": "display_data"
        }
      ],
      "source": [
        "# load unclassified data\n",
        "f = urlopen(\"https://raw.githubusercontent.com/Scezaquer/MAIS202_2023_A1/main/a1_KNN_unclassified_data.json\")\n",
        "unclassified_data = json.load(f)\n",
        "\n",
        "unclassified_data = np.array(unclassified_data)\n",
        "\n",
        "# Merge classified and unclassified data together, giving a label of -1 for unclassified\n",
        "all_data = np.append(\n",
        "    dataset,\n",
        "    np.append(-np.ones((unclassified_data.shape[0], 1)), unclassified_data, axis=1),\n",
        "    axis=0\n",
        "    )\n",
        "\n",
        "# Show dataset plot and unclassified data overlaid together\n",
        "plt.scatter(all_data[:, 1], all_data[:, 2], c=all_data[:, 0])\n",
        "plt.show()"
      ]
    },
    {
      "cell_type": "markdown",
      "metadata": {
        "id": "OJAtvtuq51Ct"
      },
      "source": [
        "On the plot above, you can see both the labeled content of `dataset`, as well as the unlabeled datapoints contained in `unclassified_data`. Your task will be to implement the 5-Nearest Neighbors algorithm in order to label every point.\n",
        "\n",
        "Here, `unclassified_data` is a numpy array of dimensions `(10, 2)` with a structure similar to that of `dataset`, but without label. So every point only has `[x, y]`.\n",
        "\n",
        "First of all, implement the `distance` function. Given two points, it should return the euclidean distance between both.\n",
        "\n",
        "Note: *here, points are two-dimensional, but you should try to make your function accept any n-dimensional points if you can.*"
      ]
    },
    {
      "cell_type": "code",
      "execution_count": null,
      "metadata": {
        "id": "0bXgInpe51Ct"
      },
      "outputs": [],
      "source": [
        "def distance(x: list[float], y:list[float]) -> float:\n",
        "\n",
        "    ###########\n",
        "    # Insert your code here\n",
        "    dist = np.sqrt(np.sum((np.array(x)-np.array(y))**2))\n",
        "    return dist\n",
        "    # Remove the exception and insert your code here\n",
        "\n",
        "    # You may not use any library to implement this\n",
        "\n",
        "    ###########\n",
        "\n",
        "    raise NotImplementedError(\"You have not implemented the distance function yet\")"
      ]
    },
    {
      "cell_type": "code",
      "execution_count": null,
      "metadata": {
        "colab": {
          "base_uri": "https://localhost:8080/"
        },
        "id": "UDor4KKu51Ct",
        "outputId": "13c53871-8182-4420-9188-ab9e2e2f7458"
      },
      "outputs": [
        {
          "name": "stdout",
          "output_type": "stream",
          "text": [
            "Test case 3 passed: Raised a ValueError for mismatched dimensions.\n",
            "All tests passed!\n"
          ]
        }
      ],
      "source": [
        "# Distance tests.\n",
        "# Your implementation should not raise errors here.\n",
        "\n",
        "# Test case 1: 2D points\n",
        "point1 = [1.0, 2.0]\n",
        "point2 = [4.0, 6.0]\n",
        "expected_distance = 5.0\n",
        "result = distance(point1, point2)\n",
        "assert result == expected_distance, f\"Expected distance: {expected_distance}, but got {result}\"\n",
        "\n",
        "# Test case 2: 3D points\n",
        "point1 = [1.0, 2.0, 3.0]\n",
        "point2 = [4.0, 6.0, 8.0]\n",
        "expected_distance = 7.071067811865476\n",
        "result = distance(point1, point2)\n",
        "assert abs(result - expected_distance) < 1e-5, f\"Expected distance: {expected_distance}, but got {result}\"\n",
        "\n",
        "# Test case 3: Mismatched dimensions\n",
        "point1 = [1.0, 2.0]\n",
        "point2 = [4.0, 6.0, 8.0]\n",
        "try:\n",
        "    distance(point1, point2)\n",
        "    print(\"Test case 3 failed: Expected a ValueError for mismatched dimensions.\")\n",
        "except ValueError:\n",
        "    print(\"Test case 3 passed: Raised a ValueError for mismatched dimensions.\")\n",
        "\n",
        "print(\"All tests passed!\")\n"
      ]
    },
    {
      "cell_type": "markdown",
      "metadata": {
        "id": "VeNV_IPp51Ct"
      },
      "source": [
        "Now that you have this function, implement KNN while using it.\n",
        "\n",
        "The function takes `dataset` and `unclassified_data` as arguments, and should return a list of labels for unclassified_data."
      ]
    },
    {
      "cell_type": "code",
      "execution_count": null,
      "metadata": {
        "id": "Tz1326w751Ct"
      },
      "outputs": [],
      "source": [
        "def KNN(dataset: list[list[int]], unclassified_data: list[list[int]], k: int = 5) -> list[int]:\n",
        "\n",
        "    labels: list[int] = []\n",
        "\n",
        "    \"\"\"\n",
        "    For every point x in unclassified_data, you should\n",
        "    1 - Calculate the distance between x and every point in `dataset`\n",
        "    2 - Pick the k closest points\n",
        "    3 - Pick the most common label among them and add it to `labels` as the label for x\n",
        "\n",
        "    You should be returning a list of labels, one label for each point in `unclassified_data`.\n",
        "\n",
        "    You may create any helper function you feel you might need.\n",
        "    You may not use any library apart from numpy array index manipulation and numpy.argsort().\n",
        "    Your code should not modify any of the arguments.\n",
        "\n",
        "    Separating dataset into two lists containing respectively the labels\n",
        "    and the corresponding point coordinates might make things simpler.\n",
        "\n",
        "    Make sure to remove the NotImplementedError\n",
        "    \"\"\"\n",
        "\n",
        "    ########\n",
        "\n",
        "    # Insert your code here\n",
        "\n",
        "    for i in range(len(unclassified_data)):\n",
        "      distancelist=[]\n",
        "      for j in range(len(dataset)):\n",
        "        distancelist.append([distance(dataset[j,1:],unclassified_data[i]),dataset[j,0]])\n",
        "\n",
        "      distancelist = np.asanyarray(distancelist)\n",
        "      dist = np.argsort(distancelist,axis=0)\n",
        "      distancelist=distancelist[dist[:,0]][:k]\n",
        "\n",
        "\n",
        "      mostco = distancelist[:,1].astype(int)\n",
        "      y_pred = float(np.argmax(np.bincount(mostco)))\n",
        "      labels.append(y_pred)\n",
        "\n",
        "    ########\n",
        "\n",
        "    return labels\n",
        "\n"
      ]
    },
    {
      "cell_type": "code",
      "execution_count": null,
      "metadata": {
        "colab": {
          "base_uri": "https://localhost:8080/",
          "height": 447
        },
        "id": "N7XetlBQ51Cu",
        "outputId": "b1b22e01-d206-4f9f-9c54-7aea892c2a39"
      },
      "outputs": [
        {
          "data": {
            "image/png": "[encoded data removed]",
            "text/plain": [
              "<Figure size 640x480 with 1 Axes>"
            ]
          },
          "metadata": {},
          "output_type": "display_data"
        },
        {
          "name": "stdout",
          "output_type": "stream",
          "text": [
            "[0.0, 2.0, 0.0, 2.0, 0.0, 0.0, 1.0, 0.0, 0.0, 2.0]\n"
          ]
        }
      ],
      "source": [
        "# Use this code snippet to visualize your code's results.\n",
        "\n",
        "labels = KNN(dataset, unclassified_data)\n",
        "\n",
        "# Merge classified and unclassified data together, giving your predicted labels for unclassified\n",
        "all_data = np.append(\n",
        "    dataset,\n",
        "    np.c_[labels, unclassified_data],\n",
        "    axis=0\n",
        "    )\n",
        "\n",
        "# Show dataset plot and newly classified data overlaid together\n",
        "plt.scatter(all_data[:, 1], all_data[:, 2], c=all_data[:, 0])\n",
        "plt.show()\n",
        "\n",
        "print(labels)"
      ]
    },
    {
      "cell_type": "code",
      "execution_count": null,
      "metadata": {
        "colab": {
          "base_uri": "https://localhost:8080/"
        },
        "id": "12Zfdy_751Cu",
        "outputId": "0cadbefc-1bc3-4a96-b6fe-a20546d4f9bb"
      },
      "outputs": [
        {
          "name": "stdout",
          "output_type": "stream",
          "text": [
            "All test cases passed!\n"
          ]
        }
      ],
      "source": [
        "# KNN tests.\n",
        "# Your implementation should not raise errors here.\n",
        "\n",
        "# Verifies that the labels are the right ones\n",
        "assert np.allclose([0, 2, 0, 2, 0, 0, 1, 0, 0, 2], labels), \"Test case 0 failed\"\n",
        "\n",
        "# Test case 1: 2D dataset, k=3\n",
        "dataset2 = np.array([\n",
        "    [0, 1.0, 2.0],\n",
        "    [1, 2.0, 4.0],\n",
        "    [0, 3.0, 6.0],\n",
        "    [1, 4.0, 8.0],\n",
        "    [2, 5.0, 10.0]\n",
        "])\n",
        "\n",
        "unclassified_data = np.array([\n",
        "    [1.5, 2.5],\n",
        "    [3.5, 7.0]\n",
        "])\n",
        "\n",
        "k = 3\n",
        "expected_labels = [0, 1]\n",
        "predicted_labels = KNN(dataset2, unclassified_data, k)\n",
        "assert predicted_labels == expected_labels, f\"Test case 1 failed: Expected labels {expected_labels}, but got {predicted_labels}\"\n",
        "\n",
        "# Test case 2: 2D dataset, k=1\n",
        "k = 1\n",
        "expected_labels = [0, 0]\n",
        "predicted_labels = KNN(dataset2, unclassified_data, k)\n",
        "assert predicted_labels == expected_labels, f\"Test case 2 failed: Expected labels {expected_labels}, but got {predicted_labels}\"\n",
        "\n",
        "# Test case 3: 2D dataset with ties, k=3\n",
        "dataset2 = np.array([\n",
        "    [0, 1.0, 2.0],\n",
        "    [1, 2.0, 4.0],\n",
        "    [0, 3.0, 6.0],\n",
        "    [1, 4.0, 8.0],\n",
        "    [1, 5.0, 10.0]\n",
        "])\n",
        "\n",
        "unclassified_data = np.array([\n",
        "    [1.5, 2.5],\n",
        "    [2.5, 5.0]\n",
        "])\n",
        "\n",
        "k = 3\n",
        "expected_labels = [0, 0]\n",
        "predicted_labels = KNN(dataset2, unclassified_data, k)\n",
        "assert predicted_labels == expected_labels, f\"Test case 4 failed: Expected labels {expected_labels}, but got {predicted_labels}\"\n",
        "\n",
        "print(\"All test cases passed!\")"
      ]
    },
    {
      "cell_type": "markdown",
      "metadata": {
        "id": "tTmlBbD351Cr"
      },
      "source": [
        "### Additional resources on KNN\n",
        "\n",
        "- Wikipedia, [*K-Nearest Neighbors Algorihtm*](https://en.wikipedia.org/wiki/K-nearest_neighbors_algorithm)\n",
        "\n",
        "- Wikipedia, [*Norms*](https://en.wikipedia.org/wiki/Norm_(mathematics))\n",
        "\n",
        "- Wikipedia, [*Metric space*](https://en.wikipedia.org/wiki/Metric_space)\n",
        "\n",
        "- Wikipedia, [*LP-Space*](https://en.wikipedia.org/wiki/Lp_space)\n",
        "\n",
        "- Geeksforgeeks, [*K-Nearest Neighbor (KNN) Algorithm*](https://www.geeksforgeeks.org/k-nearest-neighbours/) ;\n",
        "\n",
        "- Geeksforgeeks, [*Euclidean Distance*](https://www.geeksforgeeks.org/euclidean-distance/) ;"
      ]
    },
    {
      "cell_type": "markdown",
      "metadata": {
        "id": "t5kOOGAD51Cu"
      },
      "source": [
        "## Part III - Hyperparameter Tuning"
      ]
    },
    {
      "cell_type": "markdown",
      "metadata": {
        "id": "e10RN9uZ51Cv"
      },
      "source": [
        "### **1 - Background**"
      ]
    },
    {
      "cell_type": "markdown",
      "metadata": {
        "id": "23xQxlBI51Cv"
      },
      "source": [
        "> This section will cover simple cases of hyperparameter tuning and the most common related algorithms."
      ]
    },
    {
      "cell_type": "markdown",
      "metadata": {
        "id": "RWqq6NlO51Cv"
      },
      "source": [
        "#### Hyperparameters\n",
        "\n",
        "Hyperparameters are opposed to parameters in that parameters will be automatically derived by the model during training, while hyperparameters control how this training is happening. The kinds of hyperparameters depend on the model used, and the problem it is applied to.\n",
        "\n",
        "The importance of picking good hyperparameters can hardly be overstated, as they often make or break your model.\n",
        "\n",
        "Common examples of hyperparameters include learning rate and epochs, but also the model's structure (number of layers and nodes per layers for neural networks)."
      ]
    },
    {
      "cell_type": "markdown",
      "metadata": {
        "id": "ZJkMhjob51Cv"
      },
      "source": [
        "\n",
        "\n",
        "```\n",
        "# Ce texte est au format code\n",
        "```\n",
        "\n",
        "#### Hyperparameter Tuning\n",
        "\n",
        "Hyperparameter tuning consists in picking the hyperparameters that optimize model performance in few epochs. There are multiple strategies to do this. We will be exploring random search, grid search and bayesian optimization."
      ]
    },
    {
      "cell_type": "markdown",
      "metadata": {
        "id": "8KhEKQAu51Cv"
      },
      "source": [
        "#### Random search\n",
        "\n",
        "This is the simplest method: simply pick the hyperparameters at random for $n$ iterations and keep the combination that performed best. It works best when there are few significant hyperparameters."
      ]
    },
    {
      "cell_type": "markdown",
      "metadata": {
        "id": "b1TOLYQU51Cv"
      },
      "source": [
        "#### Grid search\n",
        "\n",
        "For each hyperparameter, you specify a list of values to try. The algorithm will then go through every possible combination and output the one that optimizes some metric. Note that the time complexity of this approach quickly grows with the number of hyperparameters and the number of values to rey for each ($O(k^n)$, where $n$ is the number of hyperparameters and $k$ the number of values per hyperparameter)"
      ]
    },
    {
      "cell_type": "markdown",
      "metadata": {
        "id": "M5gzoIB251Cw"
      },
      "source": [
        "#### Bayesian optimization\n",
        "\n",
        "This method uses a bayesian approach to follow the intuition that previous runs allow us to make informed decisions about new parameters to try. We will not be detailing it here but feel free to [try it yourself](https://www.vantage-ai.com/en/blog/bayesian-optimization-for-quicker-hyperparameter-tuning)."
      ]
    },
    {
      "cell_type": "markdown",
      "metadata": {
        "id": "nknPuMtO51Cw"
      },
      "source": [
        "### **2 - Applications**"
      ]
    },
    {
      "cell_type": "markdown",
      "metadata": {
        "id": "qvbtTguW51Cw"
      },
      "source": [
        "> You will be coding random search and grid search in the case of a very simple neural network. It will be applied to a dummy classification problem where given any integer from 1 to 5 as input, your model will output that same number.\n",
        "\n",
        "So for example, if your model gets 3 as input, it should return the label 3. If it gets 2 as input, it should return 2, etc.\n",
        "\n",
        "First, run the following code snippets to setup the problem."
      ]
    },
    {
      "cell_type": "code",
      "execution_count": null,
      "metadata": {
        "id": "Z9ZIvWts51Cw"
      },
      "outputs": [],
      "source": [
        "# import relevant libraries\n",
        "import numpy as np\n",
        "import random\n",
        "import torch\n",
        "import torch.nn as nn\n",
        "import torch.nn.functional as F\n",
        "import torch.optim as optim\n"
      ]
    },
    {
      "cell_type": "code",
      "execution_count": null,
      "metadata": {
        "id": "o7BrqxjP51Cx"
      },
      "outputs": [],
      "source": [
        "# create the training and test sets\n",
        "dataset = np.random.randint(1, 6, 100).reshape((100, 1)).astype(np.float32)"
      ]
    },
    {
      "cell_type": "code",
      "execution_count": null,
      "metadata": {
        "id": "IWNPGs_H51Cx"
      },
      "outputs": [],
      "source": [
        "# You do not need to understand this code snippet (yet)\n",
        "\n",
        "# Create the network\n",
        "class Net(nn.Module):\n",
        "    def __init__(self, nbr_layers, neurons_per_layers):\n",
        "        super().__init__()\n",
        "        self.network = nn.ModuleList()\n",
        "        self.network.append(nn.Linear(1, neurons_per_layers))\n",
        "        for x in range(nbr_layers-1):\n",
        "            self.network.append(nn.Linear(neurons_per_layers, neurons_per_layers))\n",
        "        self.network.append(nn.Linear(neurons_per_layers, 5))\n",
        "\n",
        "    def forward(self, x):\n",
        "        for layer in self.network:\n",
        "            x = F.leaky_relu(layer(x))\n",
        "        return x\n",
        "\n",
        "# Create the optimizer\n",
        "def create_optimizer(lr, net):\n",
        "    criterion = nn.CrossEntropyLoss()\n",
        "    optimizer = optim.Adam(net.parameters(), lr=lr)\n",
        "\n",
        "    return criterion, optimizer\n",
        "\n",
        "def train(optimizer, dataset, net, criterion):\n",
        "    losses = []\n",
        "    # Get the inputs;\n",
        "    # data is a list of [inputs, labels]\n",
        "\n",
        "    for epoch in range(1000):  # loop over the dataset multiple times\n",
        "\n",
        "        # create the training and test sets\n",
        "        inputs, labels = dataset, dataset.reshape((100,)).astype(np.int64) - 1\n",
        "\n",
        "        running_loss = 0.0\n",
        "\n",
        "        # zero the parameter gradients\n",
        "        optimizer.zero_grad()\n",
        "\n",
        "        # forward + backward + optimize\n",
        "        outputs = net(torch.tensor(inputs))\n",
        "        loss = criterion(outputs, torch.tensor(labels))\n",
        "        loss.backward()\n",
        "        optimizer.step()\n",
        "\n",
        "        # print statistics\n",
        "        losses.append(loss.item())\n",
        "\n",
        "    return losses"
      ]
    },
    {
      "cell_type": "code",
      "execution_count": null,
      "metadata": {
        "colab": {
          "base_uri": "https://localhost:8080/"
        },
        "id": "-bQXd52q51Cx",
        "outputId": "ff1024fa-755a-434b-dee1-0966b0d81def"
      },
      "outputs": [
        {
          "data": {
            "text/plain": [
              "(0.1385344377041391, 3, 10)"
            ]
          },
          "execution_count": 22,
          "metadata": {},
          "output_type": "execute_result"
        }
      ],
      "source": [
        "def random_search():\n",
        "\n",
        "    best_lr, best_nbr_layers, best_neurons_per_layers = 0, 0, 0\n",
        "    best_loss = float('inf')\n",
        "\n",
        "    for i in range(25):\n",
        "\n",
        "        ##########################\n",
        "\n",
        "        # Insert your code here\n",
        "        nbr_layers=random.randint(1,10)\n",
        "        neurons_per_layers=random.randint(1,10)\n",
        "        lr = random.random()\n",
        "\n",
        "        # You should be generating values at random for the variables\n",
        "        # nbr_layers, neurons_per_layers and lr\n",
        "\n",
        "        # nbr_layers is the number of layers in the network and needs to be a nonnegative integer\n",
        "        # neurons_per_layers is the number of neurons per layer and needs to be a positive integer\n",
        "        # lr is the learning rate, and is a positive floating point number usually close to 0\n",
        "\n",
        "        # you should then update best_lr, best_nbr_layers and best_neurons_per_layers based on the losses values,\n",
        "        # which is an array containing the performances of the model after each training step.\n",
        "        # Ideally you would want loss to decline quickly for fast training, and to converge to a value as small as possible\n",
        "        # for an accurate model.\n",
        "\n",
        "        ##########################\n",
        "\n",
        "        net = Net(nbr_layers, neurons_per_layers)           # Create network\n",
        "        criterion, optimizer = create_optimizer(lr, net)    # Create optimizer\n",
        "        losses = train(optimizer, dataset, net, criterion)  # Train and assess network loss\n",
        "        if losses[0] < best_loss :\n",
        "          best_lr = lr\n",
        "          best_nbr_layers = nbr_layers\n",
        "          best_neurons_per_layers = neurons_per_layers\n",
        "          best_loss = losses[0]\n",
        "\n",
        "    return best_lr, best_nbr_layers, best_neurons_per_layers\n",
        "\n",
        "random_search()"
      ]
    },
    {
      "cell_type": "code",
      "execution_count": null,
      "metadata": {
        "colab": {
          "background_save": true
        },
        "id": "D0aE2bhj51Cy",
        "outputId": "27874ee6-d199-466d-f347-ce35809c1132"
      },
      "outputs": [
        {
          "data": {
            "text/plain": [
              "(0.32, 2, 15)"
            ]
          },
          "execution_count": 23,
          "metadata": {},
          "output_type": "execute_result"
        }
      ],
      "source": [
        "def grid_search():\n",
        "    best_lr, best_nbr_layers, best_neurons_per_layers = 0, 0, 0\n",
        "    best_loss = float('inf')\n",
        "\n",
        "    ###########################\n",
        "\n",
        "    # Insert your code here.\n",
        "    lr_possible=[0.5,0.8,1.0,0.4,0.32]\n",
        "    nbr_layers_possible=[3,5,8,10,2,18]\n",
        "    neurons_per_layers_possible=[6,10,13,15,11,8]\n",
        "    # You should use the \"create network -> create optimizer -> train and assess network loss\" code from\n",
        "    # the random_search function here as well.\n",
        "    for i in range(len(lr_possible)):\n",
        "      lr=lr_possible[i]\n",
        "      for j in range(len(nbr_layers_possible)):\n",
        "        nbr_layers=nbr_layers_possible[j]\n",
        "        for k in range(len(neurons_per_layers_possible)):\n",
        "          neurons_per_layers = neurons_per_layers_possible[k]\n",
        "\n",
        "          net = Net(nbr_layers, neurons_per_layers)           # Create network\n",
        "          criterion, optimizer = create_optimizer(lr, net)    # Create optimizer\n",
        "          losses = train(optimizer, dataset, net, criterion)  # Train and assess network loss\n",
        "          if losses[0] < best_loss :\n",
        "            best_lr = lr\n",
        "            best_nbr_layers = nbr_layers\n",
        "            best_neurons_per_layers = neurons_per_layers\n",
        "            best_loss = losses[0]\n",
        "\n",
        "\n",
        "    ###########################\n",
        "\n",
        "    return best_lr, best_nbr_layers, best_neurons_per_layers\n",
        "\n",
        "grid_search()"
      ]
    },
    {
      "cell_type": "markdown",
      "metadata": {
        "id": "ZZwEpplSFfW_"
      },
      "source": [
        "### Additional resources on hyperparameter tuning\n",
        "\n",
        "- Wikipedia, [*Hyperparameter optimization*](https://en.wikipedia.org/wiki/Hyperparameter_optimization) ;\n",
        "\n",
        "- Wikipedia, [*Bayesian optimization*](https://en.wikipedia.org/wiki/Bayesian_optimization) ;\n",
        "\n",
        "- Wikipedia, [*Random Search*](https://en.wikipedia.org/wiki/Random_search) ;\n",
        "\n",
        "- Geeksforgeeks, [*Hyperparameter tuning*](https://www.geeksforgeeks.org/hyperparameter-tuning/) ;\n",
        "\n",
        "- Jeremy Jordan, [*Hyperparameter tuning for machine learning models*](https://www.jeremyjordan.me/hyperparameter-tuning/) ;\n",
        "\n"
      ]
    },
    {
      "cell_type": "markdown",
      "metadata": {
        "id": "-nMEsXlQ51Cy"
      },
      "source": [
        "## Part IV - Metrics"
      ]
    },
    {
      "cell_type": "markdown",
      "metadata": {
        "id": "otjvKDdB51Cy"
      },
      "source": [
        "### **1 - Background**"
      ]
    },
    {
      "cell_type": "markdown",
      "metadata": {
        "id": "9W4yrkSF51Cy"
      },
      "source": [
        "> In this section, you will be exploring different metrics.\n",
        "\n",
        "An essential part of machine learning is being able to assess how good a model is. Usually, this is done through comparing the model's predictions against the correct labels and putting a number on how far apart these are.\n",
        "\n",
        "> Here, we will be exploring three metrics: precision, recall and f1.\n",
        "\n",
        "These three metrics are specific to classification and hence do not apply to regression problems. These have their own metrics, some of which we explored in previous parts of this assignment (like Mean Squared Error), and we will not be going over them."
      ]
    },
    {
      "cell_type": "markdown",
      "metadata": {
        "id": "jWk0858V51Cy"
      },
      "source": [
        "#### Introduction to Classification Problems:\n",
        "\n",
        "In the realm of machine learning and data science, one of the fundamental tasks is to make sense of data by assigning it to predefined categories or classes. This task is often referred to as \"classification.\" At its core, a classification problem involves the following key elements:\n",
        "\n",
        "\n",
        "- **Data:** Classification begins with data – lots of it. This data typically comprises a collection of observations, with each observation represented by a set of features or attributes. These features serve as the basis for making predictions or decisions about the category to which each observation belongs.\n",
        "\n",
        "\n",
        "- **Categories or Classes:** In classification, we seek to categorize each observation into one of several predefined classes or categories. These classes represent distinct and mutually exclusive groups that capture different aspects or characteristics of the data. For instance, in a medical diagnosis scenario, classes might represent disease categories such as \"healthy,\" \"mildly ill,\" or \"severely ill.\"\n",
        "\n",
        "\n",
        "- **Goal:** The primary goal of classification is to build a model or algorithm that can automatically assign new, unseen observations to the correct class based on their feature characteristics. This predictive capability enables us to make informed decisions, automate tasks, and gain valuable insights from data.\n",
        "\n",
        "\n",
        "Classification problems can be further categorized into two main types:\n",
        "\n",
        "\n",
        "- **Binary Classification:** In binary classification, the task involves classifying observations into one of two possible classes. Common examples include spam email detection (spam or not spam) and medical diagnosis (positive or negative for a specific condition).\n",
        "\n",
        "\n",
        "- **Multi-class Classification:** In multi-class classification, the problem extends beyond two classes, and the goal is to assign observations to one of several possible categories. Examples include handwritten digit recognition (assigning each digit from 0 to 9) and sentiment analysis (categorizing text as positive, negative, or neutral).\n",
        "\n",
        "\n",
        "Note that when earlier, we used the KNN algorithm, we did so in a multi-class classification setting.\n",
        "\n",
        "\n",
        "The success of a classification model is typically measured by its ability to accurately predict the correct class for new, unseen data points. To assess performance, various evaluation metrics and techniques specific to classification problems are employed. These metrics, which we will explore in detail, help us quantify how well our model is performing and provide insights into its strengths and weaknesses.\n",
        "\n",
        "\n",
        "Classification problems are not only academically intriguing but also hold immense practical significance. They find applications in fields such as healthcare, finance, marketing, image recognition, natural language processing, and countless others. By mastering the concepts and techniques associated with classification, students and aspiring data scientists can unlock the power to make informed decisions and extract valuable insights from data in diverse domains."
      ]
    },
    {
      "cell_type": "markdown",
      "metadata": {
        "id": "1vNwKebc51Cz"
      },
      "source": [
        "#### Precision\n",
        "\n",
        "Precision is defined as\n",
        "\n",
        "$$ \\frac{TP}{TP+FP} $$\n",
        "\n",
        "Where $TP$ is the number of true positives and $FP$ the number of false positives.\n",
        "\n",
        "As stated is [sklearn's documentation](https://scikit-learn.org/stable/modules/generated/sklearn.metrics.precision_score.html), intuitively, precision is the model's ability not to label as positive a sample that is negative.\n",
        "\n",
        "It goes from 0 to 1, 1 being the best value."
      ]
    },
    {
      "cell_type": "markdown",
      "metadata": {
        "id": "RnPqzsr051Cz"
      },
      "source": [
        "#### Recall\n",
        "\n",
        "Recall is extremely similar to precision, and is defined as\n",
        "\n",
        "$$ \\frac{TP}{TP+FN} $$\n",
        "\n",
        "Where $TP$ is the number of true positives and $FN$ the number of false negatives.\n",
        "\n",
        "As stated is [sklearn's documentation](https://scikit-learn.org/stable/modules/generated/sklearn.metrics.recall_score.html), intuitively, recall is the model's ability to find all the positive samples.\n",
        "\n",
        "It goes from $0$ to $1$, $1$ being the best value."
      ]
    },
    {
      "cell_type": "markdown",
      "metadata": {
        "id": "tuyhP5Yv51Cz"
      },
      "source": [
        "#### F1\n",
        "\n",
        "F1 (or sometimes balanced F-score or F-measure) is defined as\n",
        "\n",
        "$$ \\frac{2\\times \\text{Precision} \\times \\text{Recall}}{\\text{Precision} + \\text{Recall}} $$\n",
        "\n",
        "and can be seen as a harmonic mean of precision and recall ([sklearn's documentation](https://scikit-learn.org/stable/modules/generated/sklearn.metrics.f1_score.html)).\n",
        "\n",
        "It goes from $0$ to $1$, $1$ being the best value."
      ]
    },
    {
      "cell_type": "markdown",
      "metadata": {
        "id": "8rlvYFlk51Cz"
      },
      "source": [
        "### **2 - Applications**"
      ]
    },
    {
      "cell_type": "markdown",
      "metadata": {
        "id": "MsczETep51Cz"
      },
      "source": [
        "Run the following code snippets to import the dataset and libraries for this problem."
      ]
    },
    {
      "cell_type": "code",
      "execution_count": null,
      "metadata": {
        "colab": {
          "background_save": true
        },
        "id": "I_l_FALn51Cz"
      },
      "outputs": [],
      "source": [
        "# load libraries\n",
        "import json\n",
        "from urllib.request import urlopen\n",
        "from sklearn import metrics"
      ]
    },
    {
      "cell_type": "code",
      "execution_count": null,
      "metadata": {
        "colab": {
          "background_save": true
        },
        "id": "dzkVu10851C0"
      },
      "outputs": [],
      "source": [
        "f = urlopen(\"https://raw.githubusercontent.com/Scezaquer/MAIS202_2023_A1/main/a1_metrics_data.json\")\n",
        "data = json.load(f)"
      ]
    },
    {
      "cell_type": "markdown",
      "metadata": {
        "id": "w3UuwV-f51C0"
      },
      "source": [
        "`data` has form `{\"true\": [0, 1, 1, 0, ...], \"pred\": [0, 0, 1, 1, ...]}`.\n",
        "\n",
        "Both `data['true']` and `data['pred']` have 256 entries.\n",
        "\n",
        "Assuming this dataset comes from a binary classification problem, that `data['pred']` are the model's predictions and that `data['true']` are the correct labels, you will code precision, recall and f1.\n",
        "\n",
        "Note that you may NOT use `sklearn` in your code, but you may use its documentation for reference."
      ]
    },
    {
      "cell_type": "markdown",
      "metadata": {
        "id": "QTN94obc51C0"
      },
      "source": [
        "#### Precision"
      ]
    },
    {
      "cell_type": "code",
      "execution_count": null,
      "metadata": {
        "colab": {
          "background_save": true
        },
        "id": "_BSjVYAc51C0"
      },
      "outputs": [],
      "source": [
        "def precision(data: dict) -> float:\n",
        "\n",
        "    ########################\n",
        "    TP=0\n",
        "    FP=0\n",
        "    for i in range(len(data['true'])):\n",
        "      if data['pred'][i] == 1:\n",
        "        if data['true'][i]==1:\n",
        "          TP+=1\n",
        "        else :\n",
        "          FP+=1\n",
        "\n",
        "    precision = TP/(TP+FP)\n",
        "    return precision\n",
        "\n",
        "    # Insert your code here\n",
        "\n",
        "    # You may NOT use sklearn\n",
        "\n",
        "    ########################\n",
        "\n",
        "    pass"
      ]
    },
    {
      "cell_type": "code",
      "execution_count": null,
      "metadata": {
        "colab": {
          "background_save": true
        },
        "id": "Sp-typGS51C1"
      },
      "outputs": [],
      "source": [
        "# Your code should pass the following test\n",
        "\n",
        "assert precision(data) == metrics.precision_score(data['true'], data['pred'])"
      ]
    },
    {
      "cell_type": "markdown",
      "metadata": {
        "id": "4HNiVf4s51C1"
      },
      "source": [
        "#### Recall"
      ]
    },
    {
      "cell_type": "code",
      "execution_count": null,
      "metadata": {
        "colab": {
          "background_save": true
        },
        "id": "ivggnK-w51C1"
      },
      "outputs": [],
      "source": [
        "def recall(data: dict) -> float:\n",
        "\n",
        "    ########################\n",
        "\n",
        "    # Insert your code here\n",
        "    TP=0\n",
        "    FN=0\n",
        "    for i in range(len(data['true'])):\n",
        "      if data['true'][i] == 1:\n",
        "        if data['pred'][i]==1:\n",
        "          TP+=1\n",
        "        else:\n",
        "          FN+=1\n",
        "\n",
        "\n",
        "\n",
        "    recall = TP/(TP+FN)\n",
        "    return recall\n",
        "    # You may NOT use sklearn\n",
        "\n",
        "    ########################\n",
        "\n",
        "    pass"
      ]
    },
    {
      "cell_type": "code",
      "execution_count": null,
      "metadata": {
        "colab": {
          "background_save": true
        },
        "id": "nXqLUCC-51C1"
      },
      "outputs": [],
      "source": [
        "# Your code should pass the following test\n",
        "\n",
        "assert recall(data) == metrics.recall_score(data['true'], data['pred'])"
      ]
    },
    {
      "cell_type": "markdown",
      "metadata": {
        "id": "XagVBKwr51C1"
      },
      "source": [
        "#### F1"
      ]
    },
    {
      "cell_type": "code",
      "execution_count": null,
      "metadata": {
        "colab": {
          "background_save": true
        },
        "id": "toyfEEsl51C1"
      },
      "outputs": [],
      "source": [
        "def f1(data: dict) -> float:\n",
        "\n",
        "    ########################\n",
        "\n",
        "    # Insert your code here\n",
        "    prec  = precision(data)\n",
        "    rec = recall(data)\n",
        "\n",
        "    f1 = 2*prec*rec/(prec+rec)\n",
        "\n",
        "    # You may use the previously defined functions\n",
        "\n",
        "    # You may NOT use sklearn\n",
        "\n",
        "    ########################\n",
        "    return f1\n",
        "\n",
        "    pass"
      ]
    },
    {
      "cell_type": "code",
      "execution_count": null,
      "metadata": {
        "colab": {
          "background_save": true
        },
        "id": "sz-diuAx51C2"
      },
      "outputs": [],
      "source": [
        "# Your code should pass the following test\n",
        "\n",
        "assert f1(data) == metrics.f1_score(data['true'], data['pred'])"
      ]
    },
    {
      "cell_type": "markdown",
      "metadata": {
        "id": "SLqNwXgeFZUd"
      },
      "source": [
        "### Additional resources on Metrics\n",
        "\n",
        "- Wikipedia, [*Binary Classification*](https://en.wikipedia.org/wiki/Binary_classification)\n",
        "\n",
        "- Wikipedia, [*Multiclass (multinomial) classification*](https://en.wikipedia.org/wiki/Multiclass_classification#:~:text=In%20machine%20learning%20and%20statistical,classes%20is%20called%20binary%20classification) ;\n",
        "\n",
        "- Wikipedia, [*False positives and false negatives*](https://en.wikipedia.org/wiki/False_positives_and_false_negatives)\n",
        "\n",
        "- Wikipedia, [*Multi-label classification*](https://en.wikipedia.org/wiki/Multi-label_classification)\n",
        "\n",
        "- Wikipedia, [*F-Score*](https://en.wikipedia.org/wiki/F-score)\n",
        "\n",
        "- Wikipedia, [*Confusion Matrix*](https://en.wikipedia.org/wiki/Confusion_matrix)\n",
        "\n",
        "- [These notes](https://stanford.edu/~shervine/teaching/cs-229/cheatsheet-machine-learning-tips-and-tricks) from CS 229, at Stanford."
      ]
    },
    {
      "cell_type": "markdown",
      "metadata": {
        "id": "hl3-VFyn51C2"
      },
      "source": [
        "## This is the end of your first MAIS202 assignment!\n",
        "\n"
      ]
    }
  ],
  "metadata": {
    "colab": {
      "collapsed_sections": [
        "Dhnpci7q51Cq",
        "-nMEsXlQ51Cy",
        "otjvKDdB51Cy",
        "8rlvYFlk51Cz"
      ],
      "provenance": [],
      "include_colab_link": true
    },
    "kernelspec": {
      "display_name": "Python 3",
      "language": "python",
      "name": "python3"
    },
    "language_info": {
      "codemirror_mode": {
        "name": "ipython",
        "version": 3
      },
      "file_extension": ".py",
      "mimetype": "text/x-python",
      "name": "python",
      "nbconvert_exporter": "python",
      "pygments_lexer": "ipython3",
      "version": "3.9.6"
    }
  },
  "nbformat": 4,
  "nbformat_minor": 0
}
